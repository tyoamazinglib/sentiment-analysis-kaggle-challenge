{
  "nbformat": 4,
  "nbformat_minor": 0,
  "metadata": {
    "colab": {
      "name": "Sentiment_Analysis_Disaster_or_Not.ipynb",
      "provenance": []
    },
    "kernelspec": {
      "name": "python3",
      "display_name": "Python 3"
    },
    "language_info": {
      "name": "python"
    },
    "accelerator": "GPU",
    "gpuClass": "standard"
  },
  "cells": [
    {
      "cell_type": "code",
      "execution_count": 193,
      "metadata": {
        "id": "JWBhn8dg-DNm"
      },
      "outputs": [],
      "source": [
        "import tensorflow as tf\n",
        "import pandas as pd\n",
        "import random\n",
        "from sklearn.model_selection import train_test_split\n",
        "from tensorflow.keras.layers.experimental.preprocessing import TextVectorization\n",
        "from tensorflow.keras import layers\n",
        "import matplotlib.pyplot as plt\n",
        "import io"
      ]
    },
    {
      "cell_type": "markdown",
      "source": [
        "## Natural Language Processing TensorFlow\n",
        "NLP merupakan sebuah metode untuk memberikan sebuah informasi dari Text (tulisan) maupun Suara. Kali ini saya akan mencontohkan penggunaan NLP pada Text dalam penentuan sebuah Tweet seseorang, Tweet tersebut membahas tentang bencana atau tidak.\n",
        "\n",
        "Dataset : https://www.kaggle.com/competitions/nlp-getting-started/data?select=train.csv"
      ],
      "metadata": {
        "id": "8tUJxkw6-lnp"
      }
    },
    {
      "cell_type": "code",
      "source": [
        "!nvidia-smi -L"
      ],
      "metadata": {
        "colab": {
          "base_uri": "https://localhost:8080/"
        },
        "id": "LOh562Wd-PTV",
        "outputId": "3facf56f-b547-4e5b-c2ba-01cd1b33c650"
      },
      "execution_count": 194,
      "outputs": [
        {
          "output_type": "stream",
          "name": "stdout",
          "text": [
            "GPU 0: Tesla T4 (UUID: GPU-d09d3a20-0d28-7650-289c-3c82763065cb)\n"
          ]
        }
      ]
    },
    {
      "cell_type": "code",
      "source": [
        " test_sample = pd.read_csv(\"test.csv\")\n",
        " train_sample = pd.read_csv(\"train.csv\")"
      ],
      "metadata": {
        "id": "Q36N9pfW_auC"
      },
      "execution_count": 195,
      "outputs": []
    },
    {
      "cell_type": "code",
      "source": [
        "test_sample, train_sample"
      ],
      "metadata": {
        "colab": {
          "base_uri": "https://localhost:8080/"
        },
        "id": "g0BxtpHnI8OU",
        "outputId": "1e84903a-f34b-4e14-ee80-e0a95b5ae802"
      },
      "execution_count": 196,
      "outputs": [
        {
          "output_type": "execute_result",
          "data": {
            "text/plain": [
              "(         id keyword location  \\\n",
              " 0         0     NaN      NaN   \n",
              " 1         2     NaN      NaN   \n",
              " 2         3     NaN      NaN   \n",
              " 3         9     NaN      NaN   \n",
              " 4        11     NaN      NaN   \n",
              " ...     ...     ...      ...   \n",
              " 3258  10861     NaN      NaN   \n",
              " 3259  10865     NaN      NaN   \n",
              " 3260  10868     NaN      NaN   \n",
              " 3261  10874     NaN      NaN   \n",
              " 3262  10875     NaN      NaN   \n",
              " \n",
              "                                                    text  \n",
              " 0                    Just happened a terrible car crash  \n",
              " 1     Heard about #earthquake is different cities, s...  \n",
              " 2     there is a forest fire at spot pond, geese are...  \n",
              " 3              Apocalypse lighting. #Spokane #wildfires  \n",
              " 4         Typhoon Soudelor kills 28 in China and Taiwan  \n",
              " ...                                                 ...  \n",
              " 3258  EARTHQUAKE SAFETY LOS ANGELES ÛÒ SAFETY FASTE...  \n",
              " 3259  Storm in RI worse than last hurricane. My city...  \n",
              " 3260  Green Line derailment in Chicago http://t.co/U...  \n",
              " 3261  MEG issues Hazardous Weather Outlook (HWO) htt...  \n",
              " 3262  #CityofCalgary has activated its Municipal Eme...  \n",
              " \n",
              " [3263 rows x 4 columns],          id keyword location  \\\n",
              " 0         1     NaN      NaN   \n",
              " 1         4     NaN      NaN   \n",
              " 2         5     NaN      NaN   \n",
              " 3         6     NaN      NaN   \n",
              " 4         7     NaN      NaN   \n",
              " ...     ...     ...      ...   \n",
              " 7608  10869     NaN      NaN   \n",
              " 7609  10870     NaN      NaN   \n",
              " 7610  10871     NaN      NaN   \n",
              " 7611  10872     NaN      NaN   \n",
              " 7612  10873     NaN      NaN   \n",
              " \n",
              "                                                    text  target  \n",
              " 0     Our Deeds are the Reason of this #earthquake M...       1  \n",
              " 1                Forest fire near La Ronge Sask. Canada       1  \n",
              " 2     All residents asked to 'shelter in place' are ...       1  \n",
              " 3     13,000 people receive #wildfires evacuation or...       1  \n",
              " 4     Just got sent this photo from Ruby #Alaska as ...       1  \n",
              " ...                                                 ...     ...  \n",
              " 7608  Two giant cranes holding a bridge collapse int...       1  \n",
              " 7609  @aria_ahrary @TheTawniest The out of control w...       1  \n",
              " 7610  M1.94 [01:04 UTC]?5km S of Volcano Hawaii. htt...       1  \n",
              " 7611  Police investigating after an e-bike collided ...       1  \n",
              " 7612  The Latest: More Homes Razed by Northern Calif...       1  \n",
              " \n",
              " [7613 rows x 5 columns])"
            ]
          },
          "metadata": {},
          "execution_count": 196
        }
      ]
    },
    {
      "cell_type": "code",
      "source": [
        "train_sample.head(20)"
      ],
      "metadata": {
        "colab": {
          "base_uri": "https://localhost:8080/",
          "height": 677
        },
        "id": "4xO6ltg_I_4f",
        "outputId": "7f05af3d-9170-4f99-8f18-8694b3c2b48a"
      },
      "execution_count": 197,
      "outputs": [
        {
          "output_type": "execute_result",
          "data": {
            "text/plain": [
              "    id keyword location                                               text  \\\n",
              "0    1     NaN      NaN  Our Deeds are the Reason of this #earthquake M...   \n",
              "1    4     NaN      NaN             Forest fire near La Ronge Sask. Canada   \n",
              "2    5     NaN      NaN  All residents asked to 'shelter in place' are ...   \n",
              "3    6     NaN      NaN  13,000 people receive #wildfires evacuation or...   \n",
              "4    7     NaN      NaN  Just got sent this photo from Ruby #Alaska as ...   \n",
              "5    8     NaN      NaN  #RockyFire Update => California Hwy. 20 closed...   \n",
              "6   10     NaN      NaN  #flood #disaster Heavy rain causes flash flood...   \n",
              "7   13     NaN      NaN  I'm on top of the hill and I can see a fire in...   \n",
              "8   14     NaN      NaN  There's an emergency evacuation happening now ...   \n",
              "9   15     NaN      NaN  I'm afraid that the tornado is coming to our a...   \n",
              "10  16     NaN      NaN        Three people died from the heat wave so far   \n",
              "11  17     NaN      NaN  Haha South Tampa is getting flooded hah- WAIT ...   \n",
              "12  18     NaN      NaN  #raining #flooding #Florida #TampaBay #Tampa 1...   \n",
              "13  19     NaN      NaN            #Flood in Bago Myanmar #We arrived Bago   \n",
              "14  20     NaN      NaN  Damage to school bus on 80 in multi car crash ...   \n",
              "15  23     NaN      NaN                                     What's up man?   \n",
              "16  24     NaN      NaN                                      I love fruits   \n",
              "17  25     NaN      NaN                                   Summer is lovely   \n",
              "18  26     NaN      NaN                                  My car is so fast   \n",
              "19  28     NaN      NaN                       What a goooooooaaaaaal!!!!!!   \n",
              "\n",
              "    target  \n",
              "0        1  \n",
              "1        1  \n",
              "2        1  \n",
              "3        1  \n",
              "4        1  \n",
              "5        1  \n",
              "6        1  \n",
              "7        1  \n",
              "8        1  \n",
              "9        1  \n",
              "10       1  \n",
              "11       1  \n",
              "12       1  \n",
              "13       1  \n",
              "14       1  \n",
              "15       0  \n",
              "16       0  \n",
              "17       0  \n",
              "18       0  \n",
              "19       0  "
            ],
            "text/html": [
              "\n",
              "  <div id=\"df-01ef41db-5626-4219-9157-16d01abda755\">\n",
              "    <div class=\"colab-df-container\">\n",
              "      <div>\n",
              "<style scoped>\n",
              "    .dataframe tbody tr th:only-of-type {\n",
              "        vertical-align: middle;\n",
              "    }\n",
              "\n",
              "    .dataframe tbody tr th {\n",
              "        vertical-align: top;\n",
              "    }\n",
              "\n",
              "    .dataframe thead th {\n",
              "        text-align: right;\n",
              "    }\n",
              "</style>\n",
              "<table border=\"1\" class=\"dataframe\">\n",
              "  <thead>\n",
              "    <tr style=\"text-align: right;\">\n",
              "      <th></th>\n",
              "      <th>id</th>\n",
              "      <th>keyword</th>\n",
              "      <th>location</th>\n",
              "      <th>text</th>\n",
              "      <th>target</th>\n",
              "    </tr>\n",
              "  </thead>\n",
              "  <tbody>\n",
              "    <tr>\n",
              "      <th>0</th>\n",
              "      <td>1</td>\n",
              "      <td>NaN</td>\n",
              "      <td>NaN</td>\n",
              "      <td>Our Deeds are the Reason of this #earthquake M...</td>\n",
              "      <td>1</td>\n",
              "    </tr>\n",
              "    <tr>\n",
              "      <th>1</th>\n",
              "      <td>4</td>\n",
              "      <td>NaN</td>\n",
              "      <td>NaN</td>\n",
              "      <td>Forest fire near La Ronge Sask. Canada</td>\n",
              "      <td>1</td>\n",
              "    </tr>\n",
              "    <tr>\n",
              "      <th>2</th>\n",
              "      <td>5</td>\n",
              "      <td>NaN</td>\n",
              "      <td>NaN</td>\n",
              "      <td>All residents asked to 'shelter in place' are ...</td>\n",
              "      <td>1</td>\n",
              "    </tr>\n",
              "    <tr>\n",
              "      <th>3</th>\n",
              "      <td>6</td>\n",
              "      <td>NaN</td>\n",
              "      <td>NaN</td>\n",
              "      <td>13,000 people receive #wildfires evacuation or...</td>\n",
              "      <td>1</td>\n",
              "    </tr>\n",
              "    <tr>\n",
              "      <th>4</th>\n",
              "      <td>7</td>\n",
              "      <td>NaN</td>\n",
              "      <td>NaN</td>\n",
              "      <td>Just got sent this photo from Ruby #Alaska as ...</td>\n",
              "      <td>1</td>\n",
              "    </tr>\n",
              "    <tr>\n",
              "      <th>5</th>\n",
              "      <td>8</td>\n",
              "      <td>NaN</td>\n",
              "      <td>NaN</td>\n",
              "      <td>#RockyFire Update =&gt; California Hwy. 20 closed...</td>\n",
              "      <td>1</td>\n",
              "    </tr>\n",
              "    <tr>\n",
              "      <th>6</th>\n",
              "      <td>10</td>\n",
              "      <td>NaN</td>\n",
              "      <td>NaN</td>\n",
              "      <td>#flood #disaster Heavy rain causes flash flood...</td>\n",
              "      <td>1</td>\n",
              "    </tr>\n",
              "    <tr>\n",
              "      <th>7</th>\n",
              "      <td>13</td>\n",
              "      <td>NaN</td>\n",
              "      <td>NaN</td>\n",
              "      <td>I'm on top of the hill and I can see a fire in...</td>\n",
              "      <td>1</td>\n",
              "    </tr>\n",
              "    <tr>\n",
              "      <th>8</th>\n",
              "      <td>14</td>\n",
              "      <td>NaN</td>\n",
              "      <td>NaN</td>\n",
              "      <td>There's an emergency evacuation happening now ...</td>\n",
              "      <td>1</td>\n",
              "    </tr>\n",
              "    <tr>\n",
              "      <th>9</th>\n",
              "      <td>15</td>\n",
              "      <td>NaN</td>\n",
              "      <td>NaN</td>\n",
              "      <td>I'm afraid that the tornado is coming to our a...</td>\n",
              "      <td>1</td>\n",
              "    </tr>\n",
              "    <tr>\n",
              "      <th>10</th>\n",
              "      <td>16</td>\n",
              "      <td>NaN</td>\n",
              "      <td>NaN</td>\n",
              "      <td>Three people died from the heat wave so far</td>\n",
              "      <td>1</td>\n",
              "    </tr>\n",
              "    <tr>\n",
              "      <th>11</th>\n",
              "      <td>17</td>\n",
              "      <td>NaN</td>\n",
              "      <td>NaN</td>\n",
              "      <td>Haha South Tampa is getting flooded hah- WAIT ...</td>\n",
              "      <td>1</td>\n",
              "    </tr>\n",
              "    <tr>\n",
              "      <th>12</th>\n",
              "      <td>18</td>\n",
              "      <td>NaN</td>\n",
              "      <td>NaN</td>\n",
              "      <td>#raining #flooding #Florida #TampaBay #Tampa 1...</td>\n",
              "      <td>1</td>\n",
              "    </tr>\n",
              "    <tr>\n",
              "      <th>13</th>\n",
              "      <td>19</td>\n",
              "      <td>NaN</td>\n",
              "      <td>NaN</td>\n",
              "      <td>#Flood in Bago Myanmar #We arrived Bago</td>\n",
              "      <td>1</td>\n",
              "    </tr>\n",
              "    <tr>\n",
              "      <th>14</th>\n",
              "      <td>20</td>\n",
              "      <td>NaN</td>\n",
              "      <td>NaN</td>\n",
              "      <td>Damage to school bus on 80 in multi car crash ...</td>\n",
              "      <td>1</td>\n",
              "    </tr>\n",
              "    <tr>\n",
              "      <th>15</th>\n",
              "      <td>23</td>\n",
              "      <td>NaN</td>\n",
              "      <td>NaN</td>\n",
              "      <td>What's up man?</td>\n",
              "      <td>0</td>\n",
              "    </tr>\n",
              "    <tr>\n",
              "      <th>16</th>\n",
              "      <td>24</td>\n",
              "      <td>NaN</td>\n",
              "      <td>NaN</td>\n",
              "      <td>I love fruits</td>\n",
              "      <td>0</td>\n",
              "    </tr>\n",
              "    <tr>\n",
              "      <th>17</th>\n",
              "      <td>25</td>\n",
              "      <td>NaN</td>\n",
              "      <td>NaN</td>\n",
              "      <td>Summer is lovely</td>\n",
              "      <td>0</td>\n",
              "    </tr>\n",
              "    <tr>\n",
              "      <th>18</th>\n",
              "      <td>26</td>\n",
              "      <td>NaN</td>\n",
              "      <td>NaN</td>\n",
              "      <td>My car is so fast</td>\n",
              "      <td>0</td>\n",
              "    </tr>\n",
              "    <tr>\n",
              "      <th>19</th>\n",
              "      <td>28</td>\n",
              "      <td>NaN</td>\n",
              "      <td>NaN</td>\n",
              "      <td>What a goooooooaaaaaal!!!!!!</td>\n",
              "      <td>0</td>\n",
              "    </tr>\n",
              "  </tbody>\n",
              "</table>\n",
              "</div>\n",
              "      <button class=\"colab-df-convert\" onclick=\"convertToInteractive('df-01ef41db-5626-4219-9157-16d01abda755')\"\n",
              "              title=\"Convert this dataframe to an interactive table.\"\n",
              "              style=\"display:none;\">\n",
              "        \n",
              "  <svg xmlns=\"http://www.w3.org/2000/svg\" height=\"24px\"viewBox=\"0 0 24 24\"\n",
              "       width=\"24px\">\n",
              "    <path d=\"M0 0h24v24H0V0z\" fill=\"none\"/>\n",
              "    <path d=\"M18.56 5.44l.94 2.06.94-2.06 2.06-.94-2.06-.94-.94-2.06-.94 2.06-2.06.94zm-11 1L8.5 8.5l.94-2.06 2.06-.94-2.06-.94L8.5 2.5l-.94 2.06-2.06.94zm10 10l.94 2.06.94-2.06 2.06-.94-2.06-.94-.94-2.06-.94 2.06-2.06.94z\"/><path d=\"M17.41 7.96l-1.37-1.37c-.4-.4-.92-.59-1.43-.59-.52 0-1.04.2-1.43.59L10.3 9.45l-7.72 7.72c-.78.78-.78 2.05 0 2.83L4 21.41c.39.39.9.59 1.41.59.51 0 1.02-.2 1.41-.59l7.78-7.78 2.81-2.81c.8-.78.8-2.07 0-2.86zM5.41 20L4 18.59l7.72-7.72 1.47 1.35L5.41 20z\"/>\n",
              "  </svg>\n",
              "      </button>\n",
              "      \n",
              "  <style>\n",
              "    .colab-df-container {\n",
              "      display:flex;\n",
              "      flex-wrap:wrap;\n",
              "      gap: 12px;\n",
              "    }\n",
              "\n",
              "    .colab-df-convert {\n",
              "      background-color: #E8F0FE;\n",
              "      border: none;\n",
              "      border-radius: 50%;\n",
              "      cursor: pointer;\n",
              "      display: none;\n",
              "      fill: #1967D2;\n",
              "      height: 32px;\n",
              "      padding: 0 0 0 0;\n",
              "      width: 32px;\n",
              "    }\n",
              "\n",
              "    .colab-df-convert:hover {\n",
              "      background-color: #E2EBFA;\n",
              "      box-shadow: 0px 1px 2px rgba(60, 64, 67, 0.3), 0px 1px 3px 1px rgba(60, 64, 67, 0.15);\n",
              "      fill: #174EA6;\n",
              "    }\n",
              "\n",
              "    [theme=dark] .colab-df-convert {\n",
              "      background-color: #3B4455;\n",
              "      fill: #D2E3FC;\n",
              "    }\n",
              "\n",
              "    [theme=dark] .colab-df-convert:hover {\n",
              "      background-color: #434B5C;\n",
              "      box-shadow: 0px 1px 3px 1px rgba(0, 0, 0, 0.15);\n",
              "      filter: drop-shadow(0px 1px 2px rgba(0, 0, 0, 0.3));\n",
              "      fill: #FFFFFF;\n",
              "    }\n",
              "  </style>\n",
              "\n",
              "      <script>\n",
              "        const buttonEl =\n",
              "          document.querySelector('#df-01ef41db-5626-4219-9157-16d01abda755 button.colab-df-convert');\n",
              "        buttonEl.style.display =\n",
              "          google.colab.kernel.accessAllowed ? 'block' : 'none';\n",
              "\n",
              "        async function convertToInteractive(key) {\n",
              "          const element = document.querySelector('#df-01ef41db-5626-4219-9157-16d01abda755');\n",
              "          const dataTable =\n",
              "            await google.colab.kernel.invokeFunction('convertToInteractive',\n",
              "                                                     [key], {});\n",
              "          if (!dataTable) return;\n",
              "\n",
              "          const docLinkHtml = 'Like what you see? Visit the ' +\n",
              "            '<a target=\"_blank\" href=https://colab.research.google.com/notebooks/data_table.ipynb>data table notebook</a>'\n",
              "            + ' to learn more about interactive tables.';\n",
              "          element.innerHTML = '';\n",
              "          dataTable['output_type'] = 'display_data';\n",
              "          await google.colab.output.renderOutput(dataTable, element);\n",
              "          const docLink = document.createElement('div');\n",
              "          docLink.innerHTML = docLinkHtml;\n",
              "          element.appendChild(docLink);\n",
              "        }\n",
              "      </script>\n",
              "    </div>\n",
              "  </div>\n",
              "  "
            ]
          },
          "metadata": {},
          "execution_count": 197
        }
      ]
    },
    {
      "cell_type": "code",
      "source": [
        "train_sample.target.value_counts()"
      ],
      "metadata": {
        "colab": {
          "base_uri": "https://localhost:8080/"
        },
        "id": "u-hMlnfOMW7F",
        "outputId": "541e3e58-981d-4962-ac92-5a17d63b27fe"
      },
      "execution_count": 198,
      "outputs": [
        {
          "output_type": "execute_result",
          "data": {
            "text/plain": [
              "0    4342\n",
              "1    3271\n",
              "Name: target, dtype: int64"
            ]
          },
          "metadata": {},
          "execution_count": 198
        }
      ]
    },
    {
      "cell_type": "markdown",
      "source": [
        "### KETERANGAN : \n",
        "`1` : Bencana \n",
        "\n",
        "`0` : Bukan Bencana"
      ],
      "metadata": {
        "id": "RVfGzQOHMe9b"
      }
    },
    {
      "cell_type": "code",
      "source": [
        "len(train_sample), len(test_sample)"
      ],
      "metadata": {
        "colab": {
          "base_uri": "https://localhost:8080/"
        },
        "id": "pm73HZT8MdOX",
        "outputId": "78c7d55e-6b49-4558-d67b-254ccd2bdc19"
      },
      "execution_count": 199,
      "outputs": [
        {
          "output_type": "execute_result",
          "data": {
            "text/plain": [
              "(7613, 3263)"
            ]
          },
          "metadata": {},
          "execution_count": 199
        }
      ]
    },
    {
      "cell_type": "code",
      "source": [
        "train_sample_shuffle = train_sample.sample(frac=1, random_state=32)"
      ],
      "metadata": {
        "id": "Pn-VMJ8-NTXZ"
      },
      "execution_count": 200,
      "outputs": []
    },
    {
      "cell_type": "code",
      "source": [
        "train_sample_shuffle"
      ],
      "metadata": {
        "colab": {
          "base_uri": "https://localhost:8080/",
          "height": 424
        },
        "id": "R2i-eq1BOt8e",
        "outputId": "69eb56fd-e6af-48bb-e1df-3138fbc1a662"
      },
      "execution_count": 201,
      "outputs": [
        {
          "output_type": "execute_result",
          "data": {
            "text/plain": [
              "         id              keyword                  location  \\\n",
              "2250   3221              deluged                    London   \n",
              "7155  10252           war%20zone                       NaN   \n",
              "3148   4522            emergency          Indianapolis, IN   \n",
              "1857   2670                crush                    GLOBAL   \n",
              "4760   6773            lightning              Victoria, BC   \n",
              "...     ...                  ...                       ...   \n",
              "4030   5722        forest%20fire  Redding, California, USA   \n",
              "2940   4225              drowned                       NaN   \n",
              "1334   1927  burning%20buildings           we?it Û¢ ixwin   \n",
              "1579   2280         cliff%20fall                       NaN   \n",
              "2775   3992          devastation                       NaN   \n",
              "\n",
              "                                                   text  target  \n",
              "2250  Why are you deluged with low self-image? Take ...       1  \n",
              "7155  Bedroom clean  bathroom clean  laundry done .....       0  \n",
              "3148  UPDATE: Indiana State Police reopening I-65 ne...       1  \n",
              "1857  Had a minute alone with my crush??...it was an...       0  \n",
              "4760  Lightning causes six new fires on VancouveråÊI...       1  \n",
              "...                                                 ...     ...  \n",
              "4030  View of smoke column rising above the south en...       1  \n",
              "2940  Toddler drowned in bath after mum left room to...       1  \n",
              "1334  @Louis_Tomlinson incredible? THE CHILDREN WERE...       1  \n",
              "1579  Currently want to drive my car off a cliff and...       0  \n",
              "2775  70 Years After Atomic Bombs Japan Still Strugg...       1  \n",
              "\n",
              "[7613 rows x 5 columns]"
            ],
            "text/html": [
              "\n",
              "  <div id=\"df-cea717df-6f62-4d23-aaf0-10451d0f775e\">\n",
              "    <div class=\"colab-df-container\">\n",
              "      <div>\n",
              "<style scoped>\n",
              "    .dataframe tbody tr th:only-of-type {\n",
              "        vertical-align: middle;\n",
              "    }\n",
              "\n",
              "    .dataframe tbody tr th {\n",
              "        vertical-align: top;\n",
              "    }\n",
              "\n",
              "    .dataframe thead th {\n",
              "        text-align: right;\n",
              "    }\n",
              "</style>\n",
              "<table border=\"1\" class=\"dataframe\">\n",
              "  <thead>\n",
              "    <tr style=\"text-align: right;\">\n",
              "      <th></th>\n",
              "      <th>id</th>\n",
              "      <th>keyword</th>\n",
              "      <th>location</th>\n",
              "      <th>text</th>\n",
              "      <th>target</th>\n",
              "    </tr>\n",
              "  </thead>\n",
              "  <tbody>\n",
              "    <tr>\n",
              "      <th>2250</th>\n",
              "      <td>3221</td>\n",
              "      <td>deluged</td>\n",
              "      <td>London</td>\n",
              "      <td>Why are you deluged with low self-image? Take ...</td>\n",
              "      <td>1</td>\n",
              "    </tr>\n",
              "    <tr>\n",
              "      <th>7155</th>\n",
              "      <td>10252</td>\n",
              "      <td>war%20zone</td>\n",
              "      <td>NaN</td>\n",
              "      <td>Bedroom clean  bathroom clean  laundry done .....</td>\n",
              "      <td>0</td>\n",
              "    </tr>\n",
              "    <tr>\n",
              "      <th>3148</th>\n",
              "      <td>4522</td>\n",
              "      <td>emergency</td>\n",
              "      <td>Indianapolis, IN</td>\n",
              "      <td>UPDATE: Indiana State Police reopening I-65 ne...</td>\n",
              "      <td>1</td>\n",
              "    </tr>\n",
              "    <tr>\n",
              "      <th>1857</th>\n",
              "      <td>2670</td>\n",
              "      <td>crush</td>\n",
              "      <td>GLOBAL</td>\n",
              "      <td>Had a minute alone with my crush??...it was an...</td>\n",
              "      <td>0</td>\n",
              "    </tr>\n",
              "    <tr>\n",
              "      <th>4760</th>\n",
              "      <td>6773</td>\n",
              "      <td>lightning</td>\n",
              "      <td>Victoria, BC</td>\n",
              "      <td>Lightning causes six new fires on VancouveråÊI...</td>\n",
              "      <td>1</td>\n",
              "    </tr>\n",
              "    <tr>\n",
              "      <th>...</th>\n",
              "      <td>...</td>\n",
              "      <td>...</td>\n",
              "      <td>...</td>\n",
              "      <td>...</td>\n",
              "      <td>...</td>\n",
              "    </tr>\n",
              "    <tr>\n",
              "      <th>4030</th>\n",
              "      <td>5722</td>\n",
              "      <td>forest%20fire</td>\n",
              "      <td>Redding, California, USA</td>\n",
              "      <td>View of smoke column rising above the south en...</td>\n",
              "      <td>1</td>\n",
              "    </tr>\n",
              "    <tr>\n",
              "      <th>2940</th>\n",
              "      <td>4225</td>\n",
              "      <td>drowned</td>\n",
              "      <td>NaN</td>\n",
              "      <td>Toddler drowned in bath after mum left room to...</td>\n",
              "      <td>1</td>\n",
              "    </tr>\n",
              "    <tr>\n",
              "      <th>1334</th>\n",
              "      <td>1927</td>\n",
              "      <td>burning%20buildings</td>\n",
              "      <td>we?it Û¢ ixwin</td>\n",
              "      <td>@Louis_Tomlinson incredible? THE CHILDREN WERE...</td>\n",
              "      <td>1</td>\n",
              "    </tr>\n",
              "    <tr>\n",
              "      <th>1579</th>\n",
              "      <td>2280</td>\n",
              "      <td>cliff%20fall</td>\n",
              "      <td>NaN</td>\n",
              "      <td>Currently want to drive my car off a cliff and...</td>\n",
              "      <td>0</td>\n",
              "    </tr>\n",
              "    <tr>\n",
              "      <th>2775</th>\n",
              "      <td>3992</td>\n",
              "      <td>devastation</td>\n",
              "      <td>NaN</td>\n",
              "      <td>70 Years After Atomic Bombs Japan Still Strugg...</td>\n",
              "      <td>1</td>\n",
              "    </tr>\n",
              "  </tbody>\n",
              "</table>\n",
              "<p>7613 rows × 5 columns</p>\n",
              "</div>\n",
              "      <button class=\"colab-df-convert\" onclick=\"convertToInteractive('df-cea717df-6f62-4d23-aaf0-10451d0f775e')\"\n",
              "              title=\"Convert this dataframe to an interactive table.\"\n",
              "              style=\"display:none;\">\n",
              "        \n",
              "  <svg xmlns=\"http://www.w3.org/2000/svg\" height=\"24px\"viewBox=\"0 0 24 24\"\n",
              "       width=\"24px\">\n",
              "    <path d=\"M0 0h24v24H0V0z\" fill=\"none\"/>\n",
              "    <path d=\"M18.56 5.44l.94 2.06.94-2.06 2.06-.94-2.06-.94-.94-2.06-.94 2.06-2.06.94zm-11 1L8.5 8.5l.94-2.06 2.06-.94-2.06-.94L8.5 2.5l-.94 2.06-2.06.94zm10 10l.94 2.06.94-2.06 2.06-.94-2.06-.94-.94-2.06-.94 2.06-2.06.94z\"/><path d=\"M17.41 7.96l-1.37-1.37c-.4-.4-.92-.59-1.43-.59-.52 0-1.04.2-1.43.59L10.3 9.45l-7.72 7.72c-.78.78-.78 2.05 0 2.83L4 21.41c.39.39.9.59 1.41.59.51 0 1.02-.2 1.41-.59l7.78-7.78 2.81-2.81c.8-.78.8-2.07 0-2.86zM5.41 20L4 18.59l7.72-7.72 1.47 1.35L5.41 20z\"/>\n",
              "  </svg>\n",
              "      </button>\n",
              "      \n",
              "  <style>\n",
              "    .colab-df-container {\n",
              "      display:flex;\n",
              "      flex-wrap:wrap;\n",
              "      gap: 12px;\n",
              "    }\n",
              "\n",
              "    .colab-df-convert {\n",
              "      background-color: #E8F0FE;\n",
              "      border: none;\n",
              "      border-radius: 50%;\n",
              "      cursor: pointer;\n",
              "      display: none;\n",
              "      fill: #1967D2;\n",
              "      height: 32px;\n",
              "      padding: 0 0 0 0;\n",
              "      width: 32px;\n",
              "    }\n",
              "\n",
              "    .colab-df-convert:hover {\n",
              "      background-color: #E2EBFA;\n",
              "      box-shadow: 0px 1px 2px rgba(60, 64, 67, 0.3), 0px 1px 3px 1px rgba(60, 64, 67, 0.15);\n",
              "      fill: #174EA6;\n",
              "    }\n",
              "\n",
              "    [theme=dark] .colab-df-convert {\n",
              "      background-color: #3B4455;\n",
              "      fill: #D2E3FC;\n",
              "    }\n",
              "\n",
              "    [theme=dark] .colab-df-convert:hover {\n",
              "      background-color: #434B5C;\n",
              "      box-shadow: 0px 1px 3px 1px rgba(0, 0, 0, 0.15);\n",
              "      filter: drop-shadow(0px 1px 2px rgba(0, 0, 0, 0.3));\n",
              "      fill: #FFFFFF;\n",
              "    }\n",
              "  </style>\n",
              "\n",
              "      <script>\n",
              "        const buttonEl =\n",
              "          document.querySelector('#df-cea717df-6f62-4d23-aaf0-10451d0f775e button.colab-df-convert');\n",
              "        buttonEl.style.display =\n",
              "          google.colab.kernel.accessAllowed ? 'block' : 'none';\n",
              "\n",
              "        async function convertToInteractive(key) {\n",
              "          const element = document.querySelector('#df-cea717df-6f62-4d23-aaf0-10451d0f775e');\n",
              "          const dataTable =\n",
              "            await google.colab.kernel.invokeFunction('convertToInteractive',\n",
              "                                                     [key], {});\n",
              "          if (!dataTable) return;\n",
              "\n",
              "          const docLinkHtml = 'Like what you see? Visit the ' +\n",
              "            '<a target=\"_blank\" href=https://colab.research.google.com/notebooks/data_table.ipynb>data table notebook</a>'\n",
              "            + ' to learn more about interactive tables.';\n",
              "          element.innerHTML = '';\n",
              "          dataTable['output_type'] = 'display_data';\n",
              "          await google.colab.output.renderOutput(dataTable, element);\n",
              "          const docLink = document.createElement('div');\n",
              "          docLink.innerHTML = docLinkHtml;\n",
              "          element.appendChild(docLink);\n",
              "        }\n",
              "      </script>\n",
              "    </div>\n",
              "  </div>\n",
              "  "
            ]
          },
          "metadata": {},
          "execution_count": 201
        }
      ]
    },
    {
      "cell_type": "code",
      "source": [
        "#cek beberapa elemen text random\n",
        "\n",
        "random_index = random.randint(0, len(train_sample)-10)\n",
        "for row in train_sample_shuffle[['text', 'target']][random_index:random_index+10].itertuples():\n",
        "  _, text, target = row\n",
        "  print(f'Target : {target}', '(Bencana)' if target > 0 else '(Bukan Bencana)')\n",
        "  print(f'Text: {text}\\n\\n')"
      ],
      "metadata": {
        "colab": {
          "base_uri": "https://localhost:8080/"
        },
        "id": "zg-voWsIOvwa",
        "outputId": "b5ef8ab6-e1a4-4ac1-f5a4-193ed2dae0e9"
      },
      "execution_count": 202,
      "outputs": [
        {
          "output_type": "stream",
          "name": "stdout",
          "text": [
            "Target : 1 (Bencana)\n",
            "Text: Families to sue over Legionnaires: More than 40 families affected by the fatal outbreak of Legionnaires' disea... http://t.co/hKxYzhvmQE\n",
            "\n",
            "\n",
            "Target : 0 (Bukan Bencana)\n",
            "Text: @MythGriy they can't detonate unless they touch the ground\n",
            "\n",
            "\n",
            "Target : 0 (Bukan Bencana)\n",
            "Text: I liked a @YouTube video from @itsjustinstuart http://t.co/Mnkaji2Q1N GUN RANGE MAYHEM!\n",
            "\n",
            "\n",
            "Target : 1 (Bencana)\n",
            "Text: I can't drown my demons they know how to swim\n",
            "\n",
            "\n",
            "Target : 0 (Bukan Bencana)\n",
            "Text: Hail! [pic] ÛÓ https://t.co/B7omJ7U3EI\n",
            "\n",
            "\n",
            "Target : 0 (Bukan Bencana)\n",
            "Text: Day 2. Liquidation of emergency at chemical object. #USAR2015 #USAR15 #RUOR #??????????? http://t.co/gGTmDqUdDo\n",
            "\n",
            "\n",
            "Target : 1 (Bencana)\n",
            "Text: Storm concludes City of Calgary's Municipal Emergency Plan deactivated http://t.co/93iaEec26T\n",
            "\n",
            "\n",
            "Target : 0 (Bukan Bencana)\n",
            "Text: Gostei de um vÌ_deo @YouTube de @christinartnd http://t.co/bwe9kJCEPt Sleeping with Sirens Postcards and Polaroids acoustic cover\n",
            "\n",
            "\n",
            "Target : 1 (Bencana)\n",
            "Text: @OhYayyyYay the train derailed this morning\n",
            "\n",
            "\n",
            "Target : 0 (Bukan Bencana)\n",
            "Text: @junsuisengen changing my weapon!\n",
            "\n",
            "\n"
          ]
        }
      ]
    },
    {
      "cell_type": "code",
      "source": [
        "#split train data\n",
        "\n",
        "train_data, validation_data, train_labels, validation_labels = train_test_split(train_sample_shuffle['text'].to_numpy(), \n",
        "                                                                                train_sample_shuffle['target'].to_numpy(),\n",
        "                                                                                test_size=0.1,\n",
        "                                                                                random_state=32)"
      ],
      "metadata": {
        "id": "a0-nnHKLQC7y"
      },
      "execution_count": 203,
      "outputs": []
    },
    {
      "cell_type": "code",
      "source": [
        " #panjang data\n",
        "\n",
        " len(train_data), len(validation_data), len(train_labels), len(validation_labels)"
      ],
      "metadata": {
        "colab": {
          "base_uri": "https://localhost:8080/"
        },
        "id": "9Xtt06VrXt1C",
        "outputId": "f591b2bf-1f30-402b-8f9f-4f85d47afbd6"
      },
      "execution_count": 204,
      "outputs": [
        {
          "output_type": "execute_result",
          "data": {
            "text/plain": [
              "(6851, 762, 6851, 762)"
            ]
          },
          "metadata": {},
          "execution_count": 204
        }
      ]
    },
    {
      "cell_type": "code",
      "source": [
        "max_vocab_length = 10000 # max number of words to have in our vocabulary\n",
        "max_length = 15 # max length our sequences will be (e.g. how many words from a Tweet does our model see?)\n",
        "\n",
        "text_vectorizer = TextVectorization(max_tokens=max_vocab_length,\n",
        "                                    output_mode=\"int\",\n",
        "                                    output_sequence_length=max_length)"
      ],
      "metadata": {
        "id": "MQxVjuGRZAqU"
      },
      "execution_count": 205,
      "outputs": []
    },
    {
      "cell_type": "code",
      "source": [
        "text_vectorizer.adapt(train_data)"
      ],
      "metadata": {
        "id": "eP7pM8-kHVfd"
      },
      "execution_count": 206,
      "outputs": []
    },
    {
      "cell_type": "code",
      "source": [
        "sample_sentence = \"There's a flood in my street!\"\n",
        "text_vectorizer([sample_sentence])"
      ],
      "metadata": {
        "colab": {
          "base_uri": "https://localhost:8080/"
        },
        "id": "bK6QwAVPHMJ0",
        "outputId": "677db36f-9cec-44df-b044-c0ac9a3cd0b5"
      },
      "execution_count": 207,
      "outputs": [
        {
          "output_type": "execute_result",
          "data": {
            "text/plain": [
              "<tf.Tensor: shape=(1, 15), dtype=int64, numpy=\n",
              "array([[305,   3, 217,   4,  13, 732,   0,   0,   0,   0,   0,   0,   0,\n",
              "          0,   0]])>"
            ]
          },
          "metadata": {},
          "execution_count": 207
        }
      ]
    },
    {
      "cell_type": "code",
      "source": [
        "embedding = layers.Embedding(10000, 128, input_length=500)"
      ],
      "metadata": {
        "id": "CNAdGzx39Rac"
      },
      "execution_count": 208,
      "outputs": []
    },
    {
      "cell_type": "code",
      "source": [
        "#setting callback\n",
        "class callback(tf.keras.callbacks.Callback):\n",
        "  def on_epoch_end(self, epoch, logs={}):\n",
        "    if logs.get('accuracy') > 0.93 and logs.get('val_accuracy') > 0.74:\n",
        "      print(\"\\nTraining was stopped. Got:\")\n",
        "      self.model.stop_training = True\n",
        "\n",
        "callbacks = callback()"
      ],
      "metadata": {
        "id": "hy034VcE5zEa"
      },
      "execution_count": 209,
      "outputs": []
    },
    {
      "cell_type": "code",
      "source": [
        "#buat model\n",
        "inputs = layers.Input(shape=(1,), dtype=tf.string)\n",
        "x = text_vectorizer(inputs)\n",
        "x = embedding(x)\n",
        "x = layers.LSTM(64, return_sequences=True)(x)\n",
        "x = layers.LSTM(64)(x)\n",
        "x = layers.Dense(64, activation='relu')(x)\n",
        "outputs = layers.Dense(1, activation='sigmoid')(x)\n",
        "model = tf.keras.Model(inputs, outputs, name='Model')"
      ],
      "metadata": {
        "id": "UqdnC5qh_RgH"
      },
      "execution_count": 210,
      "outputs": []
    },
    {
      "cell_type": "code",
      "source": [
        "model.summary()"
      ],
      "metadata": {
        "colab": {
          "base_uri": "https://localhost:8080/"
        },
        "id": "79nnKi_5Fj40",
        "outputId": "ffba6239-cb7b-48d3-cbdc-479d5dbd6fca"
      },
      "execution_count": 211,
      "outputs": [
        {
          "output_type": "stream",
          "name": "stdout",
          "text": [
            "Model: \"Model\"\n",
            "_________________________________________________________________\n",
            " Layer (type)                Output Shape              Param #   \n",
            "=================================================================\n",
            " input_8 (InputLayer)        [(None, 1)]               0         \n",
            "                                                                 \n",
            " text_vectorization_6 (TextV  (None, 15)               0         \n",
            " ectorization)                                                   \n",
            "                                                                 \n",
            " embedding_8 (Embedding)     (None, 15, 128)           1280000   \n",
            "                                                                 \n",
            " lstm_12 (LSTM)              (None, 15, 64)            49408     \n",
            "                                                                 \n",
            " lstm_13 (LSTM)              (None, 64)                33024     \n",
            "                                                                 \n",
            " dense_12 (Dense)            (None, 64)                4160      \n",
            "                                                                 \n",
            " dense_13 (Dense)            (None, 1)                 65        \n",
            "                                                                 \n",
            "=================================================================\n",
            "Total params: 1,366,657\n",
            "Trainable params: 1,366,657\n",
            "Non-trainable params: 0\n",
            "_________________________________________________________________\n"
          ]
        }
      ]
    },
    {
      "cell_type": "code",
      "source": [
        "from IPython.display import SVG\n",
        "from keras.utils.vis_utils import model_to_dot\n",
        "SVG(model_to_dot(model,  show_shapes=False, show_layer_names=True, rankdir='HB').create(prog='dot', format='svg'))"
      ],
      "metadata": {
        "colab": {
          "base_uri": "https://localhost:8080/",
          "height": 880
        },
        "id": "nJ2weK5-FnVO",
        "outputId": "9ee32bfe-59a3-4738-a304-fdd549cac2a4"
      },
      "execution_count": 212,
      "outputs": [
        {
          "output_type": "execute_result",
          "data": {
            "text/plain": [
              "<IPython.core.display.SVG object>"
            ],
            "image/svg+xml": "<svg height=\"644pt\" viewBox=\"0.00 0.00 259.00 483.00\" width=\"345pt\" xmlns=\"http://www.w3.org/2000/svg\" xmlns:xlink=\"http://www.w3.org/1999/xlink\">\n<g class=\"graph\" id=\"graph0\" transform=\"scale(1.3333 1.3333) rotate(0) translate(4 479)\">\n<title>G</title>\n<polygon fill=\"#ffffff\" points=\"-4,4 -4,-479 255,-479 255,4 -4,4\" stroke=\"transparent\"/>\n<!-- 140384680312208 -->\n<g class=\"node\" id=\"node1\">\n<title>140384680312208</title>\n<polygon fill=\"none\" points=\"54.5,-438.5 54.5,-474.5 196.5,-474.5 196.5,-438.5 54.5,-438.5\" stroke=\"#000000\"/>\n<text fill=\"#000000\" font-family=\"Times,serif\" font-size=\"14.00\" text-anchor=\"middle\" x=\"85.5\" y=\"-452.8\">input_8</text>\n<polyline fill=\"none\" points=\"116.5,-438.5 116.5,-474.5 \" stroke=\"#000000\"/>\n<text fill=\"#000000\" font-family=\"Times,serif\" font-size=\"14.00\" text-anchor=\"middle\" x=\"156.5\" y=\"-452.8\">InputLayer</text>\n</g>\n<!-- 140384665596688 -->\n<g class=\"node\" id=\"node2\">\n<title>140384665596688</title>\n<polygon fill=\"none\" points=\"0,-365.5 0,-401.5 251,-401.5 251,-365.5 0,-365.5\" stroke=\"#000000\"/>\n<text fill=\"#000000\" font-family=\"Times,serif\" font-size=\"14.00\" text-anchor=\"middle\" x=\"67\" y=\"-379.8\">text_vectorization_6</text>\n<polyline fill=\"none\" points=\"134,-365.5 134,-401.5 \" stroke=\"#000000\"/>\n<text fill=\"#000000\" font-family=\"Times,serif\" font-size=\"14.00\" text-anchor=\"middle\" x=\"192.5\" y=\"-379.8\">TextVectorization</text>\n</g>\n<!-- 140384680312208&#45;&gt;140384665596688 -->\n<g class=\"edge\" id=\"edge1\">\n<title>140384680312208-&gt;140384665596688</title>\n<path d=\"M125.5,-438.4551C125.5,-430.3828 125.5,-420.6764 125.5,-411.6817\" fill=\"none\" stroke=\"#000000\"/>\n<polygon fill=\"#000000\" points=\"129.0001,-411.5903 125.5,-401.5904 122.0001,-411.5904 129.0001,-411.5903\" stroke=\"#000000\"/>\n</g>\n<!-- 140384680175376 -->\n<g class=\"node\" id=\"node3\">\n<title>140384680175376</title>\n<polygon fill=\"none\" points=\"35.5,-292.5 35.5,-328.5 215.5,-328.5 215.5,-292.5 35.5,-292.5\" stroke=\"#000000\"/>\n<text fill=\"#000000\" font-family=\"Times,serif\" font-size=\"14.00\" text-anchor=\"middle\" x=\"83.5\" y=\"-306.8\">embedding_8</text>\n<polyline fill=\"none\" points=\"131.5,-292.5 131.5,-328.5 \" stroke=\"#000000\"/>\n<text fill=\"#000000\" font-family=\"Times,serif\" font-size=\"14.00\" text-anchor=\"middle\" x=\"173.5\" y=\"-306.8\">Embedding</text>\n</g>\n<!-- 140384665596688&#45;&gt;140384680175376 -->\n<g class=\"edge\" id=\"edge2\">\n<title>140384665596688-&gt;140384680175376</title>\n<path d=\"M125.5,-365.4551C125.5,-357.3828 125.5,-347.6764 125.5,-338.6817\" fill=\"none\" stroke=\"#000000\"/>\n<polygon fill=\"#000000\" points=\"129.0001,-338.5903 125.5,-328.5904 122.0001,-338.5904 129.0001,-338.5903\" stroke=\"#000000\"/>\n</g>\n<!-- 140384680312336 -->\n<g class=\"node\" id=\"node4\">\n<title>140384680312336</title>\n<polygon fill=\"none\" points=\"66,-219.5 66,-255.5 185,-255.5 185,-219.5 66,-219.5\" stroke=\"#000000\"/>\n<text fill=\"#000000\" font-family=\"Times,serif\" font-size=\"14.00\" text-anchor=\"middle\" x=\"97.5\" y=\"-233.8\">lstm_12</text>\n<polyline fill=\"none\" points=\"129,-219.5 129,-255.5 \" stroke=\"#000000\"/>\n<text fill=\"#000000\" font-family=\"Times,serif\" font-size=\"14.00\" text-anchor=\"middle\" x=\"157\" y=\"-233.8\">LSTM</text>\n</g>\n<!-- 140384680175376&#45;&gt;140384680312336 -->\n<g class=\"edge\" id=\"edge3\">\n<title>140384680175376-&gt;140384680312336</title>\n<path d=\"M125.5,-292.4551C125.5,-284.3828 125.5,-274.6764 125.5,-265.6817\" fill=\"none\" stroke=\"#000000\"/>\n<polygon fill=\"#000000\" points=\"129.0001,-265.5903 125.5,-255.5904 122.0001,-265.5904 129.0001,-265.5903\" stroke=\"#000000\"/>\n</g>\n<!-- 140384680311440 -->\n<g class=\"node\" id=\"node5\">\n<title>140384680311440</title>\n<polygon fill=\"none\" points=\"66,-146.5 66,-182.5 185,-182.5 185,-146.5 66,-146.5\" stroke=\"#000000\"/>\n<text fill=\"#000000\" font-family=\"Times,serif\" font-size=\"14.00\" text-anchor=\"middle\" x=\"97.5\" y=\"-160.8\">lstm_13</text>\n<polyline fill=\"none\" points=\"129,-146.5 129,-182.5 \" stroke=\"#000000\"/>\n<text fill=\"#000000\" font-family=\"Times,serif\" font-size=\"14.00\" text-anchor=\"middle\" x=\"157\" y=\"-160.8\">LSTM</text>\n</g>\n<!-- 140384680312336&#45;&gt;140384680311440 -->\n<g class=\"edge\" id=\"edge4\">\n<title>140384680312336-&gt;140384680311440</title>\n<path d=\"M125.5,-219.4551C125.5,-211.3828 125.5,-201.6764 125.5,-192.6817\" fill=\"none\" stroke=\"#000000\"/>\n<polygon fill=\"#000000\" points=\"129.0001,-192.5903 125.5,-182.5904 122.0001,-192.5904 129.0001,-192.5903\" stroke=\"#000000\"/>\n</g>\n<!-- 140384680123536 -->\n<g class=\"node\" id=\"node6\">\n<title>140384680123536</title>\n<polygon fill=\"none\" points=\"64,-73.5 64,-109.5 187,-109.5 187,-73.5 64,-73.5\" stroke=\"#000000\"/>\n<text fill=\"#000000\" font-family=\"Times,serif\" font-size=\"14.00\" text-anchor=\"middle\" x=\"99.5\" y=\"-87.8\">dense_12</text>\n<polyline fill=\"none\" points=\"135,-73.5 135,-109.5 \" stroke=\"#000000\"/>\n<text fill=\"#000000\" font-family=\"Times,serif\" font-size=\"14.00\" text-anchor=\"middle\" x=\"161\" y=\"-87.8\">Dense</text>\n</g>\n<!-- 140384680311440&#45;&gt;140384680123536 -->\n<g class=\"edge\" id=\"edge5\">\n<title>140384680311440-&gt;140384680123536</title>\n<path d=\"M125.5,-146.4551C125.5,-138.3828 125.5,-128.6764 125.5,-119.6817\" fill=\"none\" stroke=\"#000000\"/>\n<polygon fill=\"#000000\" points=\"129.0001,-119.5903 125.5,-109.5904 122.0001,-119.5904 129.0001,-119.5903\" stroke=\"#000000\"/>\n</g>\n<!-- 140384676857424 -->\n<g class=\"node\" id=\"node7\">\n<title>140384676857424</title>\n<polygon fill=\"none\" points=\"64,-.5 64,-36.5 187,-36.5 187,-.5 64,-.5\" stroke=\"#000000\"/>\n<text fill=\"#000000\" font-family=\"Times,serif\" font-size=\"14.00\" text-anchor=\"middle\" x=\"99.5\" y=\"-14.8\">dense_13</text>\n<polyline fill=\"none\" points=\"135,-.5 135,-36.5 \" stroke=\"#000000\"/>\n<text fill=\"#000000\" font-family=\"Times,serif\" font-size=\"14.00\" text-anchor=\"middle\" x=\"161\" y=\"-14.8\">Dense</text>\n</g>\n<!-- 140384680123536&#45;&gt;140384676857424 -->\n<g class=\"edge\" id=\"edge6\">\n<title>140384680123536-&gt;140384676857424</title>\n<path d=\"M125.5,-73.4551C125.5,-65.3828 125.5,-55.6764 125.5,-46.6817\" fill=\"none\" stroke=\"#000000\"/>\n<polygon fill=\"#000000\" points=\"129.0001,-46.5903 125.5,-36.5904 122.0001,-46.5904 129.0001,-46.5903\" stroke=\"#000000\"/>\n</g>\n</g>\n</svg>"
          },
          "metadata": {},
          "execution_count": 212
        }
      ]
    },
    {
      "cell_type": "code",
      "source": [
        "model.compile(loss='binary_crossentropy',\n",
        "              optimizer='adam',\n",
        "              metrics=['accuracy'])"
      ],
      "metadata": {
        "id": "FeJ3PPYkFrKV"
      },
      "execution_count": 213,
      "outputs": []
    },
    {
      "cell_type": "code",
      "source": [
        "history = model.fit(train_data,\n",
        "                    train_labels,\n",
        "                    epochs=100,\n",
        "                    validation_data=(validation_data, validation_labels),\n",
        "                    callbacks=[callbacks])"
      ],
      "metadata": {
        "colab": {
          "base_uri": "https://localhost:8080/"
        },
        "id": "p2cRN4KyH1D_",
        "outputId": "fb769f42-d84d-4336-d911-9ed5098c00c8"
      },
      "execution_count": 214,
      "outputs": [
        {
          "output_type": "stream",
          "name": "stdout",
          "text": [
            "Epoch 1/100\n",
            "215/215 [==============================] - 5s 12ms/step - loss: 0.5110 - accuracy: 0.7470 - val_loss: 0.4611 - val_accuracy: 0.7861\n",
            "Epoch 2/100\n",
            "215/215 [==============================] - 2s 8ms/step - loss: 0.3188 - accuracy: 0.8701 - val_loss: 0.5139 - val_accuracy: 0.7743\n",
            "Epoch 3/100\n",
            "215/215 [==============================] - 2s 8ms/step - loss: 0.2150 - accuracy: 0.9152 - val_loss: 0.5922 - val_accuracy: 0.7664\n",
            "Epoch 4/100\n",
            "213/215 [============================>.] - ETA: 0s - loss: 0.1447 - accuracy: 0.9413\n",
            "Training was stopped. Got:\n",
            "215/215 [==============================] - 2s 8ms/step - loss: 0.1453 - accuracy: 0.9412 - val_loss: 0.7384 - val_accuracy: 0.7612\n"
          ]
        }
      ]
    },
    {
      "cell_type": "code",
      "source": [
        "model.predict(validation_data)[:10]"
      ],
      "metadata": {
        "colab": {
          "base_uri": "https://localhost:8080/"
        },
        "id": "B4b5LaIPLSKb",
        "outputId": "9eddb2f8-58b5-468b-86a8-78805c1c3a52"
      },
      "execution_count": 215,
      "outputs": [
        {
          "output_type": "execute_result",
          "data": {
            "text/plain": [
              "array([[9.9987829e-01],\n",
              "       [5.5591520e-02],\n",
              "       [5.7184603e-03],\n",
              "       [1.9107580e-02],\n",
              "       [9.9979061e-01],\n",
              "       [9.4275719e-01],\n",
              "       [4.7027715e-03],\n",
              "       [3.6804506e-04],\n",
              "       [1.1555321e-01],\n",
              "       [9.9988687e-01]], dtype=float32)"
            ]
          },
          "metadata": {},
          "execution_count": 215
        }
      ]
    },
    {
      "cell_type": "code",
      "source": [
        "#membuat plot akurasi model\n",
        "\n",
        "plt.plot(history.history['accuracy'])\n",
        "plt.plot(history.history['val_accuracy'])\n",
        "plt.title('Akurasi Model')\n",
        "plt.ylabel('accuracy')\n",
        "plt.xlabel('epoch')\n",
        "plt.legend(['train', 'test'], loc='upper left')\n",
        "plt.show()"
      ],
      "metadata": {
        "colab": {
          "base_uri": "https://localhost:8080/",
          "height": 295
        },
        "id": "Mf-rnAQVOFwC",
        "outputId": "d1e26b73-abff-459d-d17d-3cae0c43d82f"
      },
      "execution_count": 216,
      "outputs": [
        {
          "output_type": "display_data",
          "data": {
            "text/plain": [
              "<Figure size 432x288 with 1 Axes>"
            ],
            "image/png": "[encoded data removed]"
          },
          "metadata": {
            "needs_background": "light"
          }
        }
      ]
    },
    {
      "cell_type": "code",
      "source": [
        "#membuat plot loss model\n",
        "\n",
        "plt.plot(history.history['loss'])\n",
        "plt.plot(history.history['val_loss'])\n",
        "plt.title('Loss Model')\n",
        "plt.ylabel('loss')\n",
        "plt.xlabel('epoch')\n",
        "plt.legend(['train', 'test'], loc='upper left')\n",
        "plt.show()"
      ],
      "metadata": {
        "colab": {
          "base_uri": "https://localhost:8080/",
          "height": 295
        },
        "id": "LdfZNK0YO-iE",
        "outputId": "74cd23ac-4357-4994-d704-9565233b71a5"
      },
      "execution_count": 217,
      "outputs": [
        {
          "output_type": "display_data",
          "data": {
            "text/plain": [
              "<Figure size 432x288 with 1 Axes>"
            ],
            "image/png": "[encoded data removed]"
          },
          "metadata": {
            "needs_background": "light"
          }
        }
      ]
    },
    {
      "cell_type": "code",
      "source": [
        "weights = model.get_layer(\"embedding_8\").get_weights()[0]\n",
        "weights.shape"
      ],
      "metadata": {
        "colab": {
          "base_uri": "https://localhost:8080/"
        },
        "id": "4pVxgjEAPYS2",
        "outputId": "60afb451-864e-4289-88a3-347c5b5a10ca"
      },
      "execution_count": 218,
      "outputs": [
        {
          "output_type": "execute_result",
          "data": {
            "text/plain": [
              "(10000, 128)"
            ]
          },
          "metadata": {},
          "execution_count": 218
        }
      ]
    },
    {
      "cell_type": "code",
      "source": [
        "vocab = text_vectorizer.get_vocabulary()"
      ],
      "metadata": {
        "id": "8WUH-uAWRDxT"
      },
      "execution_count": 219,
      "outputs": []
    },
    {
      "cell_type": "code",
      "source": [
        "out_v = io.open('vectors.tsv', 'w', encoding='utf-8')\n",
        "out_m = io.open('metadata.tsv', 'w', encoding='utf-8')\n",
        "\n",
        "for index, word in enumerate(vocab):\n",
        "  if index == 0:\n",
        "    continue  # skip 0, it's padding.\n",
        "  vec = weights[index]\n",
        "  out_v.write('\\t'.join([str(x) for x in vec]) + \"\\n\")\n",
        "  out_m.write(word + \"\\n\")\n",
        "out_v.close()\n",
        "out_m.close()"
      ],
      "metadata": {
        "id": "DXOxfOXTRO0W"
      },
      "execution_count": 220,
      "outputs": []
    },
    {
      "cell_type": "code",
      "source": [
        "test_sentence = test_sample['text'].to_list()\n",
        "test_prep = random.sample(test_sentence, 20)\n",
        "for test_final in test_prep:\n",
        "  prob = tf.squeeze(model.predict([test_final]))\n",
        "  predict = tf.round(prob)\n",
        "  print(f'Prediksi: {int(predict)}\\nKemungkinan: {prob}') \n",
        "  print(f'Text: {test_final}\\n\\n')"
      ],
      "metadata": {
        "colab": {
          "base_uri": "https://localhost:8080/"
        },
        "id": "JnI9o_uhRgzH",
        "outputId": "199a7113-d6c7-41b2-e0ed-aad67ff9f360"
      },
      "execution_count": 221,
      "outputs": [
        {
          "output_type": "stream",
          "name": "stdout",
          "text": [
            "Prediksi: 1\n",
            "Kemungkinan: 0.8713528513908386\n",
            "Text: Do people even ride Metro any more? http://t.co/Nb8yzecI6i #whywebike #bikecommute #DysfunctionalRedLine #WMATA\n",
            "\n",
            "\n",
            "Prediksi: 1\n",
            "Kemungkinan: 0.9973275661468506\n",
            "Text: The Cafe Run by Acid Attack Survivors in #India http://t.co/XtVRJMRREs http://t.co/ndvlAPJvQL\n",
            "\n",
            "\n",
            "Prediksi: 1\n",
            "Kemungkinan: 0.8518832921981812\n",
            "Text: I just watched Halt and Catch Fire 2x10 'Heaven is a Place' https://t.co/jcPxOrV3AU #trakt\n",
            "\n",
            "\n",
            "Prediksi: 0\n",
            "Kemungkinan: 0.0017468510195612907\n",
            "Text: 4 Common Running Injuries and How to Avoid Them http://t.co/26HWLpWmXr\n",
            "\n",
            "\n",
            "Prediksi: 1\n",
            "Kemungkinan: 0.9991841912269592\n",
            "Text: Crews responding to small brush fire burning in Tahoe Forest - My News 4 - KRNV Reno NV http://t.co/VhyJnVug6f\n",
            "\n",
            "\n",
            "Prediksi: 0\n",
            "Kemungkinan: 0.02131081372499466\n",
            "Text: SEISMIC AUDIO SA-15T SA15T Padded Black Speaker COVERS (2) - Qty of 1 = 1 Pair! http://t.co/6OVxU5cy35 http://t.co/fAobg3I1zm\n",
            "\n",
            "\n",
            "Prediksi: 1\n",
            "Kemungkinan: 0.9998561143875122\n",
            "Text: Suspected Salvadoran gang members killed four people and wounded seven more on Wednesday in an attack on a bus as it travelled down a ruralÛ_\n",
            "\n",
            "\n",
            "Prediksi: 0\n",
            "Kemungkinan: 0.014987698756158352\n",
            "Text: you haven't ruined my day you've obliterated it into a million pieces and spit on it https://t.co/2B57rE5mzN\n",
            "\n",
            "\n",
            "Prediksi: 0\n",
            "Kemungkinan: 0.005315418355166912\n",
            "Text: Mental health is real..?? Self harm is real..??Depression is real..?? feeling alone..?? no where to fit in..?? one day it could be you???\n",
            "\n",
            "\n",
            "Prediksi: 0\n",
            "Kemungkinan: 0.08976185321807861\n",
            "Text: Jeff was bullied Sally was raped Ben was drowned Hoodie was betrayed LJ was abandoned EJ was a sacrifice Lost S.. (http://t.co/mFl7jzspOu)\n",
            "\n",
            "\n",
            "Prediksi: 0\n",
            "Kemungkinan: 0.003318943316116929\n",
            "Text: T Shirts $10 male or female get wit me. 2 days until its game changin time. War Zone single will beÛ_ https://t.co/Z0poYR096J\n",
            "\n",
            "\n",
            "Prediksi: 0\n",
            "Kemungkinan: 0.09811718761920929\n",
            "Text: Oops! I say he picked the right car to try hijacking.  https://t.co/SoMgI7hwli\n",
            "\n",
            "\n",
            "Prediksi: 1\n",
            "Kemungkinan: 0.9946128129959106\n",
            "Text: Disaster [Chapter 27] https://t.co/EAsxT3y84R http://t.co/CjUFunsDKg\n",
            "\n",
            "\n",
            "Prediksi: 0\n",
            "Kemungkinan: 0.002282892121002078\n",
            "Text: @unitedutilities not happy I received text now about #Parasite danger.I am a #transplantee &amp; #Virus can kill #kidney https://t.co/9AasSFrdP1\n",
            "\n",
            "\n",
            "Prediksi: 0\n",
            "Kemungkinan: 0.048499345779418945\n",
            "Text: Oh no! Dan Hughes seems like he's really hurt after getting knocked down by D Rob. They're bringing a stretcher on the court!\n",
            "\n",
            "\n",
            "Prediksi: 1\n",
            "Kemungkinan: 0.9998339414596558\n",
            "Text: The Catastrophic Effects of Hiroshima and Nagasaki Atomic Bombings Still Being Felt Today http://t.co/W1iFF7ddvy\n",
            "\n",
            "\n",
            "Prediksi: 0\n",
            "Kemungkinan: 0.3143324851989746\n",
            "Text: But bad people kiss too. Hehe\n",
            "Their kisses can destroy.\n",
            "\n",
            "\n",
            "Prediksi: 0\n",
            "Kemungkinan: 0.014963909983634949\n",
            "Text: I got more rhymes than the Bible's got psalms\n",
            "And just like the Prodigal Son I've returned\n",
            "Anyone stepping to me you'll get burned\n",
            "??\n",
            "\n",
            "\n",
            "Prediksi: 1\n",
            "Kemungkinan: 0.9855140447616577\n",
            "Text: @Musketeiro I see ISIL destroyed in Iraq in  May 2016. This may help Iraqis help Syrian government against it. But Nusrah and Ahrar not yet.\n",
            "\n",
            "\n",
            "Prediksi: 0\n",
            "Kemungkinan: 0.006046808324754238\n",
            "Text: Career goals ?? try not to cause a suicide bombing or raise psychos that like blowing shit up!\n",
            "\n",
            "\n"
          ]
        }
      ]
    },
    {
      "cell_type": "code",
      "source": [
        "model.predict(test_sentence)"
      ],
      "metadata": {
        "colab": {
          "base_uri": "https://localhost:8080/"
        },
        "id": "omd7iUEkYSu1",
        "outputId": "a8dc0376-b770-4ec7-c936-e20e37439d7d"
      },
      "execution_count": 222,
      "outputs": [
        {
          "output_type": "execute_result",
          "data": {
            "text/plain": [
              "array([[0.5964491 ],\n",
              "       [0.3791678 ],\n",
              "       [0.9955499 ],\n",
              "       ...,\n",
              "       [0.99950016],\n",
              "       [0.89358556],\n",
              "       [0.9236895 ]], dtype=float32)"
            ]
          },
          "metadata": {},
          "execution_count": 222
        }
      ]
    },
    {
      "cell_type": "code",
      "source": [
        "rounded_predict = tf.round(tf.squeeze(model.predict(test_sentence)))\n",
        "rounded_predict"
      ],
      "metadata": {
        "colab": {
          "base_uri": "https://localhost:8080/"
        },
        "id": "ej35CpCPZgWX",
        "outputId": "9af3c248-1ead-4f9c-8620-8e6c3026e15f"
      },
      "execution_count": 223,
      "outputs": [
        {
          "output_type": "execute_result",
          "data": {
            "text/plain": [
              "<tf.Tensor: shape=(3263,), dtype=float32, numpy=array([1., 0., 1., ..., 1., 1., 1.], dtype=float32)>"
            ]
          },
          "metadata": {},
          "execution_count": 223
        }
      ]
    },
    {
      "cell_type": "code",
      "source": [
        "test_sample['target'] = rounded_predict\n",
        "test_sample"
      ],
      "metadata": {
        "colab": {
          "base_uri": "https://localhost:8080/",
          "height": 424
        },
        "id": "BktWH6cMZ3Pu",
        "outputId": "0741fdbc-78ff-4539-f48f-5cbf849c183e"
      },
      "execution_count": 224,
      "outputs": [
        {
          "output_type": "execute_result",
          "data": {
            "text/plain": [
              "         id keyword location  \\\n",
              "0         0     NaN      NaN   \n",
              "1         2     NaN      NaN   \n",
              "2         3     NaN      NaN   \n",
              "3         9     NaN      NaN   \n",
              "4        11     NaN      NaN   \n",
              "...     ...     ...      ...   \n",
              "3258  10861     NaN      NaN   \n",
              "3259  10865     NaN      NaN   \n",
              "3260  10868     NaN      NaN   \n",
              "3261  10874     NaN      NaN   \n",
              "3262  10875     NaN      NaN   \n",
              "\n",
              "                                                   text  target  \n",
              "0                    Just happened a terrible car crash     1.0  \n",
              "1     Heard about #earthquake is different cities, s...     0.0  \n",
              "2     there is a forest fire at spot pond, geese are...     1.0  \n",
              "3              Apocalypse lighting. #Spokane #wildfires     0.0  \n",
              "4         Typhoon Soudelor kills 28 in China and Taiwan     1.0  \n",
              "...                                                 ...     ...  \n",
              "3258  EARTHQUAKE SAFETY LOS ANGELES ÛÒ SAFETY FASTE...     1.0  \n",
              "3259  Storm in RI worse than last hurricane. My city...     0.0  \n",
              "3260  Green Line derailment in Chicago http://t.co/U...     1.0  \n",
              "3261  MEG issues Hazardous Weather Outlook (HWO) htt...     1.0  \n",
              "3262  #CityofCalgary has activated its Municipal Eme...     1.0  \n",
              "\n",
              "[3263 rows x 5 columns]"
            ],
            "text/html": [
              "\n",
              "  <div id=\"df-65fdb477-0a34-4fcb-b807-433b58c42562\">\n",
              "    <div class=\"colab-df-container\">\n",
              "      <div>\n",
              "<style scoped>\n",
              "    .dataframe tbody tr th:only-of-type {\n",
              "        vertical-align: middle;\n",
              "    }\n",
              "\n",
              "    .dataframe tbody tr th {\n",
              "        vertical-align: top;\n",
              "    }\n",
              "\n",
              "    .dataframe thead th {\n",
              "        text-align: right;\n",
              "    }\n",
              "</style>\n",
              "<table border=\"1\" class=\"dataframe\">\n",
              "  <thead>\n",
              "    <tr style=\"text-align: right;\">\n",
              "      <th></th>\n",
              "      <th>id</th>\n",
              "      <th>keyword</th>\n",
              "      <th>location</th>\n",
              "      <th>text</th>\n",
              "      <th>target</th>\n",
              "    </tr>\n",
              "  </thead>\n",
              "  <tbody>\n",
              "    <tr>\n",
              "      <th>0</th>\n",
              "      <td>0</td>\n",
              "      <td>NaN</td>\n",
              "      <td>NaN</td>\n",
              "      <td>Just happened a terrible car crash</td>\n",
              "      <td>1.0</td>\n",
              "    </tr>\n",
              "    <tr>\n",
              "      <th>1</th>\n",
              "      <td>2</td>\n",
              "      <td>NaN</td>\n",
              "      <td>NaN</td>\n",
              "      <td>Heard about #earthquake is different cities, s...</td>\n",
              "      <td>0.0</td>\n",
              "    </tr>\n",
              "    <tr>\n",
              "      <th>2</th>\n",
              "      <td>3</td>\n",
              "      <td>NaN</td>\n",
              "      <td>NaN</td>\n",
              "      <td>there is a forest fire at spot pond, geese are...</td>\n",
              "      <td>1.0</td>\n",
              "    </tr>\n",
              "    <tr>\n",
              "      <th>3</th>\n",
              "      <td>9</td>\n",
              "      <td>NaN</td>\n",
              "      <td>NaN</td>\n",
              "      <td>Apocalypse lighting. #Spokane #wildfires</td>\n",
              "      <td>0.0</td>\n",
              "    </tr>\n",
              "    <tr>\n",
              "      <th>4</th>\n",
              "      <td>11</td>\n",
              "      <td>NaN</td>\n",
              "      <td>NaN</td>\n",
              "      <td>Typhoon Soudelor kills 28 in China and Taiwan</td>\n",
              "      <td>1.0</td>\n",
              "    </tr>\n",
              "    <tr>\n",
              "      <th>...</th>\n",
              "      <td>...</td>\n",
              "      <td>...</td>\n",
              "      <td>...</td>\n",
              "      <td>...</td>\n",
              "      <td>...</td>\n",
              "    </tr>\n",
              "    <tr>\n",
              "      <th>3258</th>\n",
              "      <td>10861</td>\n",
              "      <td>NaN</td>\n",
              "      <td>NaN</td>\n",
              "      <td>EARTHQUAKE SAFETY LOS ANGELES ÛÒ SAFETY FASTE...</td>\n",
              "      <td>1.0</td>\n",
              "    </tr>\n",
              "    <tr>\n",
              "      <th>3259</th>\n",
              "      <td>10865</td>\n",
              "      <td>NaN</td>\n",
              "      <td>NaN</td>\n",
              "      <td>Storm in RI worse than last hurricane. My city...</td>\n",
              "      <td>0.0</td>\n",
              "    </tr>\n",
              "    <tr>\n",
              "      <th>3260</th>\n",
              "      <td>10868</td>\n",
              "      <td>NaN</td>\n",
              "      <td>NaN</td>\n",
              "      <td>Green Line derailment in Chicago http://t.co/U...</td>\n",
              "      <td>1.0</td>\n",
              "    </tr>\n",
              "    <tr>\n",
              "      <th>3261</th>\n",
              "      <td>10874</td>\n",
              "      <td>NaN</td>\n",
              "      <td>NaN</td>\n",
              "      <td>MEG issues Hazardous Weather Outlook (HWO) htt...</td>\n",
              "      <td>1.0</td>\n",
              "    </tr>\n",
              "    <tr>\n",
              "      <th>3262</th>\n",
              "      <td>10875</td>\n",
              "      <td>NaN</td>\n",
              "      <td>NaN</td>\n",
              "      <td>#CityofCalgary has activated its Municipal Eme...</td>\n",
              "      <td>1.0</td>\n",
              "    </tr>\n",
              "  </tbody>\n",
              "</table>\n",
              "<p>3263 rows × 5 columns</p>\n",
              "</div>\n",
              "      <button class=\"colab-df-convert\" onclick=\"convertToInteractive('df-65fdb477-0a34-4fcb-b807-433b58c42562')\"\n",
              "              title=\"Convert this dataframe to an interactive table.\"\n",
              "              style=\"display:none;\">\n",
              "        \n",
              "  <svg xmlns=\"http://www.w3.org/2000/svg\" height=\"24px\"viewBox=\"0 0 24 24\"\n",
              "       width=\"24px\">\n",
              "    <path d=\"M0 0h24v24H0V0z\" fill=\"none\"/>\n",
              "    <path d=\"M18.56 5.44l.94 2.06.94-2.06 2.06-.94-2.06-.94-.94-2.06-.94 2.06-2.06.94zm-11 1L8.5 8.5l.94-2.06 2.06-.94-2.06-.94L8.5 2.5l-.94 2.06-2.06.94zm10 10l.94 2.06.94-2.06 2.06-.94-2.06-.94-.94-2.06-.94 2.06-2.06.94z\"/><path d=\"M17.41 7.96l-1.37-1.37c-.4-.4-.92-.59-1.43-.59-.52 0-1.04.2-1.43.59L10.3 9.45l-7.72 7.72c-.78.78-.78 2.05 0 2.83L4 21.41c.39.39.9.59 1.41.59.51 0 1.02-.2 1.41-.59l7.78-7.78 2.81-2.81c.8-.78.8-2.07 0-2.86zM5.41 20L4 18.59l7.72-7.72 1.47 1.35L5.41 20z\"/>\n",
              "  </svg>\n",
              "      </button>\n",
              "      \n",
              "  <style>\n",
              "    .colab-df-container {\n",
              "      display:flex;\n",
              "      flex-wrap:wrap;\n",
              "      gap: 12px;\n",
              "    }\n",
              "\n",
              "    .colab-df-convert {\n",
              "      background-color: #E8F0FE;\n",
              "      border: none;\n",
              "      border-radius: 50%;\n",
              "      cursor: pointer;\n",
              "      display: none;\n",
              "      fill: #1967D2;\n",
              "      height: 32px;\n",
              "      padding: 0 0 0 0;\n",
              "      width: 32px;\n",
              "    }\n",
              "\n",
              "    .colab-df-convert:hover {\n",
              "      background-color: #E2EBFA;\n",
              "      box-shadow: 0px 1px 2px rgba(60, 64, 67, 0.3), 0px 1px 3px 1px rgba(60, 64, 67, 0.15);\n",
              "      fill: #174EA6;\n",
              "    }\n",
              "\n",
              "    [theme=dark] .colab-df-convert {\n",
              "      background-color: #3B4455;\n",
              "      fill: #D2E3FC;\n",
              "    }\n",
              "\n",
              "    [theme=dark] .colab-df-convert:hover {\n",
              "      background-color: #434B5C;\n",
              "      box-shadow: 0px 1px 3px 1px rgba(0, 0, 0, 0.15);\n",
              "      filter: drop-shadow(0px 1px 2px rgba(0, 0, 0, 0.3));\n",
              "      fill: #FFFFFF;\n",
              "    }\n",
              "  </style>\n",
              "\n",
              "      <script>\n",
              "        const buttonEl =\n",
              "          document.querySelector('#df-65fdb477-0a34-4fcb-b807-433b58c42562 button.colab-df-convert');\n",
              "        buttonEl.style.display =\n",
              "          google.colab.kernel.accessAllowed ? 'block' : 'none';\n",
              "\n",
              "        async function convertToInteractive(key) {\n",
              "          const element = document.querySelector('#df-65fdb477-0a34-4fcb-b807-433b58c42562');\n",
              "          const dataTable =\n",
              "            await google.colab.kernel.invokeFunction('convertToInteractive',\n",
              "                                                     [key], {});\n",
              "          if (!dataTable) return;\n",
              "\n",
              "          const docLinkHtml = 'Like what you see? Visit the ' +\n",
              "            '<a target=\"_blank\" href=https://colab.research.google.com/notebooks/data_table.ipynb>data table notebook</a>'\n",
              "            + ' to learn more about interactive tables.';\n",
              "          element.innerHTML = '';\n",
              "          dataTable['output_type'] = 'display_data';\n",
              "          await google.colab.output.renderOutput(dataTable, element);\n",
              "          const docLink = document.createElement('div');\n",
              "          docLink.innerHTML = docLinkHtml;\n",
              "          element.appendChild(docLink);\n",
              "        }\n",
              "      </script>\n",
              "    </div>\n",
              "  </div>\n",
              "  "
            ]
          },
          "metadata": {},
          "execution_count": 224
        }
      ]
    },
    {
      "cell_type": "code",
      "source": [
        "test_sample.to_csv('final_result.csv')"
      ],
      "metadata": {
        "id": "VjtahGJka7Fq"
      },
      "execution_count": 225,
      "outputs": []
    },
    {
      "cell_type": "code",
      "source": [
        ""
      ],
      "metadata": {
        "id": "NbWHA6eCbDLi"
      },
      "execution_count": null,
      "outputs": []
    }
  ]
}